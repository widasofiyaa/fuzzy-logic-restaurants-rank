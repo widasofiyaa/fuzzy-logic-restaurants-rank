{
  "nbformat": 4,
  "nbformat_minor": 0,
  "metadata": {
    "colab": {
      "name": "fuzzy-logic-Restaurant.ipynb",
      "provenance": [],
      "collapsed_sections": []
    },
    "kernelspec": {
      "display_name": "Python 3",
      "name": "python3"
    },
    "language_info": {
      "name": "python"
    }
  },
  "cells": [
    {
      "cell_type": "code",
      "metadata": {
        "id": "xDHG7WzEA40t"
      },
      "source": [
        "import pandas as pd"
      ],
      "execution_count": null,
      "outputs": []
    },
    {
      "cell_type": "code",
      "metadata": {
        "id": "Ht5NRtCaAIv_"
      },
      "source": [
        "def trapesium(x,a,b,c,d):\n",
        "   if ((x<=a) or (x>=d)):        \n",
        "     nilai = 0    \n",
        "   elif ((x>a) and (x<b)):        \n",
        "     nilai = (x-a)/(b-a)    \n",
        "   elif ((x>=b) and (x<=c)):        \n",
        "     nilai = 1    \n",
        "   elif ((x>c) and (x<=d)):        \n",
        "     nilai = -(x-d)/(d-c)\n",
        "   return nilai"
      ],
      "execution_count": null,
      "outputs": []
    },
    {
      "cell_type": "code",
      "metadata": {
        "id": "Bjw1myBXwO3u"
      },
      "source": [
        "def segitiga(x,a,b,c):\n",
        "    if ((x<=a) or (x>=c)):\n",
        "        nilai = 0\n",
        "    elif ((x>a) and (x<=b)):\n",
        "        nilai = (x-a)/(b-a)\n",
        "    elif ((x>b) and (x<=c)):\n",
        "        nilai = -(x-c)/(c-b)\n",
        "    return nilai"
      ],
      "execution_count": null,
      "outputs": []
    },
    {
      "cell_type": "code",
      "metadata": {
        "id": "K-zU_lmpDEHk"
      },
      "source": [
        " def buruk(x,derajatKeanggotaan):   \n",
        "    a = 0\n",
        "    b = 0    \n",
        "    c = 20   \n",
        "    d = 40    \n",
        "    derajatKeanggotaan['buruk'] = round(trapesium(x,a,b,c,d),2)\n",
        "    return derajatKeanggotaan"
      ],
      "execution_count": null,
      "outputs": []
    },
    {
      "cell_type": "code",
      "metadata": {
        "id": "dou1lQSdwYSp"
      },
      "source": [
        "def biasa(x,derajatKeanggotaan):\n",
        "    a = 20\n",
        "    b = 40\n",
        "    c = 80\n",
        "    derajatKeanggotaan['biasa'] = round(segitiga(x,a,b,c),2)\n",
        "    return derajatKeanggotaan"
      ],
      "execution_count": null,
      "outputs": []
    },
    {
      "cell_type": "code",
      "metadata": {
        "id": "8fdXMF3hzuwK"
      },
      "source": [
        "def istimewa(x,derajatKeanggotaan):\n",
        "    a = 70\n",
        "    b = 80\n",
        "    c = 100.1\n",
        "    d = 100.1\n",
        "    derajatKeanggotaan['istimewa'] = round(trapesium(x,a,b,c,d),2)\n",
        "    return derajatKeanggotaan"
      ],
      "execution_count": null,
      "outputs": []
    },
    {
      "cell_type": "code",
      "metadata": {
        "id": "my62Y4GL2tBo"
      },
      "source": [
        "def tengik(x,derajatKeanggotaan):\n",
        "    a = 0\n",
        "    b = 0\n",
        "    c = 2\n",
        "    d = 3\n",
        "    derajatKeanggotaan['tengik'] = round(trapesium(x,a,b,c,d),2)\n",
        "    return derajatKeanggotaan"
      ],
      "execution_count": null,
      "outputs": []
    },
    {
      "cell_type": "code",
      "metadata": {
        "id": "ZKXJDE3_3iQY"
      },
      "source": [
        "def layak(x,derajatKeanggotaan): \n",
        "    a = 2\n",
        "    b = 3\n",
        "    c = 5\n",
        "    derajatKeanggotaan['layak'] = round(segitiga(x,a,b,c),2)\n",
        "    return derajatKeanggotaan"
      ],
      "execution_count": null,
      "outputs": []
    },
    {
      "cell_type": "code",
      "metadata": {
        "id": "ePRYXisY5F5r"
      },
      "source": [
        "def baik(x,derajatKeanggotaan): \n",
        "    a = 4\n",
        "    b = 5\n",
        "    c = 7\n",
        "    derajatKeanggotaan['baik'] = round(segitiga(x,a,b,c),2)\n",
        "    return derajatKeanggotaan"
      ],
      "execution_count": null,
      "outputs": []
    },
    {
      "cell_type": "code",
      "metadata": {
        "id": "yzojHylx5Kbu"
      },
      "source": [
        "def enak(x,derajatKeanggotaan): \n",
        "    a = 6\n",
        "    b = 9\n",
        "    c = 10.1 \n",
        "    d = 10.1 \n",
        "    derajatKeanggotaan['enak'] = round(trapesium(x,a,b,c,d),2)\n",
        "    return derajatKeanggotaan"
      ],
      "execution_count": null,
      "outputs": []
    },
    {
      "cell_type": "code",
      "metadata": {
        "id": "ZAagk8JQ5oHB"
      },
      "source": [
        "def fuzzification(pelayanan, makanan):\n",
        "    fuzzy_pelayanan = {}\n",
        "    fuzzy_makanan = {}\n",
        "    i = 1\n",
        "    x = 1\n",
        "    for data in pelayanan.values:\n",
        "        fuzzy = {}\n",
        "        fuzzy_pelayanan[i] = buruk(int(data), fuzzy)\n",
        "        fuzzy_pelayanan[i] = biasa(int(data), fuzzy)\n",
        "        fuzzy_pelayanan[i] = istimewa(int(data), fuzzy)\n",
        "        i+=1\n",
        "    for data in makanan.values:\n",
        "        fuzzy = {}\n",
        "        fuzzy_makanan[x] = tengik(int(data), fuzzy)\n",
        "        fuzzy_makanan[x] = layak(int(data), fuzzy)\n",
        "        fuzzy_makanan[x] = baik(int(data), fuzzy)\n",
        "        fuzzy_makanan[x] = enak(int(data), fuzzy)\n",
        "        x+=1\n",
        "    return fuzzy_makanan,fuzzy_pelayanan"
      ],
      "execution_count": null,
      "outputs": []
    },
    {
      "cell_type": "code",
      "metadata": {
        "id": "KpSMP3Jj8Sxq"
      },
      "source": [
        "def inference(nilai_pelayanan,nilai_makanan):\n",
        "        nilaiStatus = {}\n",
        "        i = 1\n",
        "        while i <=100: \n",
        "            status = {}\n",
        "            terbaik = []\n",
        "            jelek = []\n",
        "            if ((nilai_pelayanan[i]['buruk']!=0) and (nilai_makanan[i]['tengik']!=0)):\n",
        "                jelek.append(min(nilai_pelayanan[i]['buruk'],nilai_makanan[i]['tengik']))\n",
        "            if ((nilai_pelayanan[i]['buruk']!=0) and (nilai_makanan[i]['layak']!=0)):\n",
        "                jelek.append(min(nilai_pelayanan[i]['buruk'],nilai_makanan[i]['layak']))\n",
        "            if ((nilai_pelayanan[i]['buruk']!=0) and (nilai_makanan[i]['baik']!=0)):\n",
        "                jelek.append(min(nilai_pelayanan[i]['buruk'],nilai_makanan[i]['baik']))\n",
        "            if ((nilai_pelayanan[i]['buruk']!=0) and (nilai_makanan[i]['enak']!=0)):\n",
        "                jelek.append(min(nilai_pelayanan[i]['buruk'],nilai_makanan[i]['enak']))\n",
        "            if ((nilai_pelayanan[i]['biasa']!=0) and (nilai_makanan[i]['tengik']!=0)):\n",
        "                jelek.append(min(nilai_pelayanan[i]['biasa'],nilai_makanan[i]['tengik']))\n",
        "            if ((nilai_pelayanan[i]['biasa']!=0) and (nilai_makanan[i]['layak']!=0)):\n",
        "                terbaik.append(min(nilai_pelayanan[i]['biasa'],nilai_makanan[i]['layak']))\n",
        "            if ((nilai_pelayanan[i]['biasa']!=0) and (nilai_makanan[i]['baik']!=0)):\n",
        "                terbaik.append(min(nilai_pelayanan[i]['biasa'],nilai_makanan[i]['baik']))\n",
        "            if ((nilai_pelayanan[i]['biasa']!=0) and (nilai_makanan[i]['enak']!=0)):\n",
        "                terbaik.append(min(nilai_pelayanan[i]['biasa'],nilai_makanan[i]['enak']))\n",
        "            if ((nilai_pelayanan[i]['istimewa']!=0) and (nilai_makanan[i]['tengik']!=0)):\n",
        "                jelek.append(min(nilai_pelayanan[i]['istimewa'],nilai_makanan[i]['tengik']))\n",
        "            if ((nilai_pelayanan[i]['istimewa']!=0) and (nilai_makanan[i]['layak']!=0)):\n",
        "                terbaik.append(min(nilai_pelayanan[i]['istimewa'],nilai_makanan[i]['layak']))\n",
        "            if ((nilai_pelayanan[i]['istimewa']!=0) and (nilai_makanan[i]['baik']!=0)):\n",
        "                terbaik.append(min(nilai_pelayanan[i]['istimewa'],nilai_makanan[i]['baik']))\n",
        "            if ((nilai_pelayanan[i]['istimewa']!=0) and (nilai_makanan[i]['enak']!=0)):\n",
        "                terbaik.append(min(nilai_pelayanan[i]['istimewa'],nilai_makanan[i]['enak']))\n",
        "            status['terbaik'] = terbaik\n",
        "            status['jelek'] = jelek\n",
        "            nilaiStatus[i] = status\n",
        "            i+=1\n",
        "        for i in nilaiStatus: \n",
        "            if (nilaiStatus[i]['jelek']==[]):\n",
        "                nilaiStatus[i]['jelek'] = [0]\n",
        "            elif(nilaiStatus[i]['terbaik']==[]):\n",
        "                nilaiStatus[i]['terbaik'] = [0]\n",
        "            nilaiStatus[i]['terbaik'] = max(nilaiStatus[i]['terbaik'])\n",
        "            nilaiStatus[i]['jelek'] = max(nilaiStatus[i]['jelek'])\n",
        "        return nilaiStatus"
      ],
      "execution_count": null,
      "outputs": []
    },
    {
      "cell_type": "code",
      "metadata": {
        "id": "GskcROkH8kiJ"
      },
      "source": [
        "# Metode mamdani\n",
        "def defuzzification(nilaiStatus): \n",
        "    hasil = {}\n",
        "    for i in nilaiStatus:\n",
        "        if ((nilaiStatus[i]['terbaik'] !=0) and (nilaiStatus[i]['jelek'] == 0)):\n",
        "            temp = (60*(1/3)) + (65*(1/2)) +(70+80)*nilaiStatus[i]['terbaik']\n",
        "            pem = (((1)/(3))+((1)/(2))+(nilaiStatus[i]['terbaik']*2))\n",
        "            hasil[i] = round(temp/pem,2)\n",
        "        elif ((nilaiStatus[i]['jelek'] !=0) and (nilaiStatus[i]['terbaik'] == 0)):\n",
        "            temp = ((10+20+30+40+50)*nilaiStatus[i]['jelek'])+(60*(-((-2))/(3)))+(65*(-(-2)/(3)))+(70*(-(-1)/(3)))\n",
        "            pem = (-(-2)/(3))+(-(-2)/(3))+(nilaiStatus[i]['jelek']*5)\n",
        "            hasil[i] = round(temp/pem,2)\n",
        "        else:\n",
        "            temp = (((10+20+30+40+50+60)*nilaiStatus[i]['jelek'])) + (((70+80+90+100)*nilaiStatus[i]['terbaik']))\n",
        "            pem = (6*(nilaiStatus[i]['jelek'])) + (4*(nilaiStatus[i]['terbaik']))\n",
        "            hasil[i] = round(temp/pem,2)\n",
        "    return hasil"
      ],
      "execution_count": null,
      "outputs": []
    },
    {
      "cell_type": "code",
      "metadata": {
        "id": "6nthKeri-zZh"
      },
      "source": [
        "if __name__==\"__main__\":\n",
        "  data_restoran = pd.read_excel('./restoran.xlsx')\n",
        "  pelayanan = pd.DataFrame(data_restoran, columns=['pelayanan'])\n",
        "  makanan = pd.DataFrame(data_restoran, columns=['makanan'])\n",
        "  nilai_makanan, nilai_pelayanan = fuzzification(pelayanan,makanan)\n",
        "  nilaiStatus = inference(nilai_pelayanan,nilai_makanan)\n",
        "  hasil = defuzzification(nilaiStatus)\n",
        "  peringkat = sorted(hasil.items(),key=lambda x: [1])\n",
        "  excel = []\n",
        "  for i in range(len(peringkat)):\n",
        "      excel.append(peringkat[i][0])\n",
        "  myexcel = []\n",
        "  for i in reversed(excel[-10:]):\n",
        "      myexcel.append(i)\n",
        "  df = pd.DataFrame(myexcel)\n",
        "  df.to_excel(\"peringkat.xls\",index=False,header=False)"
      ],
      "execution_count": null,
      "outputs": []
    }
  ]
}